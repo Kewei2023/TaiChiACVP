{
 "cells": [
  {
   "cell_type": "code",
   "execution_count": 2,
   "id": "63b93b85",
   "metadata": {},
   "outputs": [],
   "source": [
    "import pandas as pd\n",
    "import numpy as np\n",
    "import os\n",
    "import ipdb"
   ]
  },
  {
   "cell_type": "code",
   "execution_count": 3,
   "id": "c8cee880",
   "metadata": {},
   "outputs": [],
   "source": [
    "files_list = ['Anti-CoV','Anti-Virus','non-AVP','non-AMP']\n"
   ]
  },
  {
   "cell_type": "code",
   "execution_count": 5,
   "id": "833b813d",
   "metadata": {},
   "outputs": [
    {
     "name": "stdout",
     "output_type": "stream",
     "text": [
      "Make Classification for Anti-CoV versus Anti-Virus\n",
      "Make Classification for Anti-CoV versus non-AVP\n",
      "Make Classification for Anti-CoV versus non-AMP\n",
      "Make Classification for Anti-CoV versus All-Neg\n",
      "Make Classification for Anti-CoV versus All-AMP\n"
     ]
    }
   ],
   "source": [
    "training_sets = {\n",
    "        lab: pd.read_csv(\"data/train_data/{:s}_train.csv\".format(lab))\n",
    "        for lab in [\"Anti-CoV\", \"Anti-Virus\", \"non-AVP\", \"non-AMP\"]\n",
    "    }\n",
    "test_sets = {\n",
    "    lab: pd.read_csv(\"data/test_data/{:s}_test.csv\".format(lab))\n",
    "    for lab in [\"Anti-CoV\", \"Anti-Virus\", \"non-AVP\", \"non-AMP\"]\n",
    "}\n",
    "\n",
    "training_sets['All-AMP'] = pd.concat([training_sets['Anti-Virus'],\n",
    "                                      training_sets['non-AVP']], axis=0)\n",
    "test_sets['All-AMP'] = pd.concat([test_sets['Anti-Virus'],\n",
    "                                  test_sets['non-AVP']], axis=0)\n",
    "training_sets['All-Neg'] = pd.concat([training_sets['Anti-Virus'],\n",
    "                                      training_sets['non-AVP'],\n",
    "                                      training_sets['non-AMP']], axis=0)\n",
    "test_sets['All-Neg'] = pd.concat([test_sets['Anti-Virus'],\n",
    "                                      test_sets['non-AVP'],\n",
    "                                      test_sets['non-AMP']], axis=0)\n",
    "\n",
    "cls_categories = [\"Anti-Virus\", \"non-AVP\", \"non-AMP\", \"All-Neg\", \"All-AMP\"]\n",
    "\n",
    "for nlab in cls_categories:\n",
    "    \n",
    "    \n",
    "    # Insert labels\n",
    "    if nlab == \"Pre-Cls\":\n",
    "        training_sets[\"Anti-CoV\"].loc[:, 'Label'] = 1\n",
    "        training_sets[\"Anti-Virus\"].loc[:, 'Label'] = 1\n",
    "        training_sets[\"non-AVP\"].loc[:, 'Label'] = 1\n",
    "        training_sets[\"non-AMP\"].loc[:, 'Label'] = 0\n",
    "        test_sets[\"Anti-CoV\"].loc[:, 'Label'] = 1\n",
    "        test_sets[\"Anti-Virus\"].loc[:, 'Label'] = 1\n",
    "        test_sets[\"non-AVP\"].loc[:, 'Label'] = 1\n",
    "        test_sets[\"non-AMP\"].loc[:, 'Label'] = 0\n",
    "        total_train = pd.concat([training_sets[plab] for plab in ['Anti-CoV', 'Anti-Virus', 'non-AVP', 'non-AMP']])\n",
    "        total_test = pd.concat([test_sets[plab] for plab in ['Anti-CoV', 'Anti-Virus', 'non-AVP', 'non-AMP']])\n",
    "    else:\n",
    "        print(\"Make Classification for Anti-CoV versus {:s}\".format(nlab))\n",
    "        training_sets['Anti-CoV'].loc[:, 'label'] = 1\n",
    "        training_sets[nlab].loc[:, 'label'] = 0\n",
    "        test_sets['Anti-CoV'].loc[:, 'label'] = 1\n",
    "        test_sets[nlab].loc[:, 'label'] = 0\n",
    "        # Create total set\n",
    "        total_train = pd.concat([training_sets[nlab], training_sets['Anti-CoV']]).rename(columns={'Id':'ID'})\n",
    "        total_test = pd.concat([test_sets[nlab], test_sets['Anti-CoV']]).rename(columns={'Id':'ID'})\n",
    "        \n",
    "        total_train['Idx'] = [i for i in range(total_train.shape[0])]\n",
    "        total_test['Idx'] = [i for i in range(total_test.shape[0])]\n",
    "        \n",
    "        total_train.to_csv(f\"data/{nlab}-train.csv\")\n",
    "        total_test.to_csv(f\"data/{nlab}-test.csv\")"
   ]
  },
  {
   "cell_type": "code",
   "execution_count": null,
   "id": "899b0272",
   "metadata": {},
   "outputs": [],
   "source": []
  }
 ],
 "metadata": {
  "kernelspec": {
   "display_name": "Python 3 (ipykernel)",
   "language": "python",
   "name": "python3"
  },
  "language_info": {
   "codemirror_mode": {
    "name": "ipython",
    "version": 3
   },
   "file_extension": ".py",
   "mimetype": "text/x-python",
   "name": "python",
   "nbconvert_exporter": "python",
   "pygments_lexer": "ipython3",
   "version": "3.9.12"
  },
  "toc": {
   "base_numbering": 1,
   "nav_menu": {},
   "number_sections": true,
   "sideBar": true,
   "skip_h1_title": false,
   "title_cell": "Table of Contents",
   "title_sidebar": "Contents",
   "toc_cell": false,
   "toc_position": {},
   "toc_section_display": true,
   "toc_window_display": false
  }
 },
 "nbformat": 4,
 "nbformat_minor": 5
}
